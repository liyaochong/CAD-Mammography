{
  "nbformat": 4,
  "nbformat_minor": 0,
  "metadata": {
    "colab": {
      "name": "ENSEMBLE.ipynb",
      "version": "0.3.2",
      "provenance": [],
      "collapsed_sections": [],
      "include_colab_link": true
    },
    "kernelspec": {
      "name": "python3",
      "display_name": "Python 3"
    },
    "accelerator": "GPU"
  },
  "cells": [
    {
      "cell_type": "markdown",
      "metadata": {
        "id": "view-in-github",
        "colab_type": "text"
      },
      "source": [
        "<a href=\"https://colab.research.google.com/github/stiflerGit/CAD-Mammography/blob/master/ENSEMBLE.ipynb\" target=\"_parent\"><img src=\"https://colab.research.google.com/assets/colab-badge.svg\" alt=\"Open In Colab\"/></a>"
      ]
    },
    {
      "metadata": {
        "id": "kMOC0SjRRT7N",
        "colab_type": "code",
        "colab": {
          "base_uri": "https://localhost:8080/",
          "height": 55
        },
        "outputId": "349002fb-0789-4e24-8367-ce16aa09eca5"
      },
      "cell_type": "code",
      "source": [
        "import json\n",
        "import h5py\n",
        "\n",
        "# https://github.com/keras-team/keras/issues/11683\n",
        "\n",
        "def fix_layer0(filename, batch_input_shape, dtype):\n",
        "    with h5py.File(filename, 'r+') as f:\n",
        "        model_config = json.loads(f.attrs['model_config'].decode('utf-8'))\n",
        "        layer0 = model_config['config']['layers'][0]['config']\n",
        "        layer0['batch_input_shape'] = batch_input_shape\n",
        "        layer0['dtype'] = dtype\n",
        "        f.attrs['model_config'] = json.dumps(model_config).encode('utf-8')\n",
        "\n",
        "# Example\n",
        "fix_layer0(os.path.join(pre_train_cnn_dir, pre_train_cnn_model_name), [None, 224, 224, 3], 'float32')"
      ],
      "execution_count": 26,
      "outputs": [
        {
          "output_type": "stream",
          "text": [
            "{'class_name': 'Sequential', 'config': {'name': 'sequential_1', 'layers': [{'class_name': 'Conv2D', 'config': {'name': 'block1_conv1', 'trainable': False, 'filters': 64, 'kernel_size': [3, 3], 'strides': [1, 1], 'padding': 'same', 'data_format': 'channels_last', 'dilation_rate': [1, 1], 'activation': 'relu', 'use_bias': True, 'kernel_initializer': {'class_name': 'VarianceScaling', 'config': {'scale': 1.0, 'mode': 'fan_avg', 'distribution': 'uniform', 'seed': None}}, 'bias_initializer': {'class_name': 'Zeros', 'config': {}}, 'kernel_regularizer': None, 'bias_regularizer': None, 'activity_regularizer': None, 'kernel_constraint': None, 'bias_constraint': None}}, {'class_name': 'Conv2D', 'config': {'name': 'block1_conv2', 'trainable': False, 'filters': 64, 'kernel_size': [3, 3], 'strides': [1, 1], 'padding': 'same', 'data_format': 'channels_last', 'dilation_rate': [1, 1], 'activation': 'relu', 'use_bias': True, 'kernel_initializer': {'class_name': 'VarianceScaling', 'config': {'scale': 1.0, 'mode': 'fan_avg', 'distribution': 'uniform', 'seed': None}}, 'bias_initializer': {'class_name': 'Zeros', 'config': {}}, 'kernel_regularizer': None, 'bias_regularizer': None, 'activity_regularizer': None, 'kernel_constraint': None, 'bias_constraint': None}}, {'class_name': 'MaxPooling2D', 'config': {'name': 'block1_pool', 'trainable': False, 'pool_size': [2, 2], 'padding': 'valid', 'strides': [2, 2], 'data_format': 'channels_last'}}, {'class_name': 'Conv2D', 'config': {'name': 'block2_conv1', 'trainable': False, 'filters': 128, 'kernel_size': [3, 3], 'strides': [1, 1], 'padding': 'same', 'data_format': 'channels_last', 'dilation_rate': [1, 1], 'activation': 'relu', 'use_bias': True, 'kernel_initializer': {'class_name': 'VarianceScaling', 'config': {'scale': 1.0, 'mode': 'fan_avg', 'distribution': 'uniform', 'seed': None}}, 'bias_initializer': {'class_name': 'Zeros', 'config': {}}, 'kernel_regularizer': None, 'bias_regularizer': None, 'activity_regularizer': None, 'kernel_constraint': None, 'bias_constraint': None}}, {'class_name': 'Conv2D', 'config': {'name': 'block2_conv2', 'trainable': False, 'filters': 128, 'kernel_size': [3, 3], 'strides': [1, 1], 'padding': 'same', 'data_format': 'channels_last', 'dilation_rate': [1, 1], 'activation': 'relu', 'use_bias': True, 'kernel_initializer': {'class_name': 'VarianceScaling', 'config': {'scale': 1.0, 'mode': 'fan_avg', 'distribution': 'uniform', 'seed': None}}, 'bias_initializer': {'class_name': 'Zeros', 'config': {}}, 'kernel_regularizer': None, 'bias_regularizer': None, 'activity_regularizer': None, 'kernel_constraint': None, 'bias_constraint': None}}, {'class_name': 'MaxPooling2D', 'config': {'name': 'block2_pool', 'trainable': False, 'pool_size': [2, 2], 'padding': 'valid', 'strides': [2, 2], 'data_format': 'channels_last'}}, {'class_name': 'Conv2D', 'config': {'name': 'block3_conv1', 'trainable': False, 'filters': 256, 'kernel_size': [3, 3], 'strides': [1, 1], 'padding': 'same', 'data_format': 'channels_last', 'dilation_rate': [1, 1], 'activation': 'relu', 'use_bias': True, 'kernel_initializer': {'class_name': 'VarianceScaling', 'config': {'scale': 1.0, 'mode': 'fan_avg', 'distribution': 'uniform', 'seed': None}}, 'bias_initializer': {'class_name': 'Zeros', 'config': {}}, 'kernel_regularizer': None, 'bias_regularizer': None, 'activity_regularizer': None, 'kernel_constraint': None, 'bias_constraint': None}}, {'class_name': 'Conv2D', 'config': {'name': 'block3_conv2', 'trainable': False, 'filters': 256, 'kernel_size': [3, 3], 'strides': [1, 1], 'padding': 'same', 'data_format': 'channels_last', 'dilation_rate': [1, 1], 'activation': 'relu', 'use_bias': True, 'kernel_initializer': {'class_name': 'VarianceScaling', 'config': {'scale': 1.0, 'mode': 'fan_avg', 'distribution': 'uniform', 'seed': None}}, 'bias_initializer': {'class_name': 'Zeros', 'config': {}}, 'kernel_regularizer': None, 'bias_regularizer': None, 'activity_regularizer': None, 'kernel_constraint': None, 'bias_constraint': None}}, {'class_name': 'Conv2D', 'config': {'name': 'block3_conv3', 'trainable': False, 'filters': 256, 'kernel_size': [3, 3], 'strides': [1, 1], 'padding': 'same', 'data_format': 'channels_last', 'dilation_rate': [1, 1], 'activation': 'relu', 'use_bias': True, 'kernel_initializer': {'class_name': 'VarianceScaling', 'config': {'scale': 1.0, 'mode': 'fan_avg', 'distribution': 'uniform', 'seed': None}}, 'bias_initializer': {'class_name': 'Zeros', 'config': {}}, 'kernel_regularizer': None, 'bias_regularizer': None, 'activity_regularizer': None, 'kernel_constraint': None, 'bias_constraint': None}}, {'class_name': 'MaxPooling2D', 'config': {'name': 'block3_pool', 'trainable': False, 'pool_size': [2, 2], 'padding': 'valid', 'strides': [2, 2], 'data_format': 'channels_last'}}, {'class_name': 'Conv2D', 'config': {'name': 'block4_conv1', 'trainable': False, 'filters': 512, 'kernel_size': [3, 3], 'strides': [1, 1], 'padding': 'same', 'data_format': 'channels_last', 'dilation_rate': [1, 1], 'activation': 'relu', 'use_bias': True, 'kernel_initializer': {'class_name': 'VarianceScaling', 'config': {'scale': 1.0, 'mode': 'fan_avg', 'distribution': 'uniform', 'seed': None}}, 'bias_initializer': {'class_name': 'Zeros', 'config': {}}, 'kernel_regularizer': None, 'bias_regularizer': None, 'activity_regularizer': None, 'kernel_constraint': None, 'bias_constraint': None}}, {'class_name': 'Conv2D', 'config': {'name': 'block4_conv2', 'trainable': False, 'filters': 512, 'kernel_size': [3, 3], 'strides': [1, 1], 'padding': 'same', 'data_format': 'channels_last', 'dilation_rate': [1, 1], 'activation': 'relu', 'use_bias': True, 'kernel_initializer': {'class_name': 'VarianceScaling', 'config': {'scale': 1.0, 'mode': 'fan_avg', 'distribution': 'uniform', 'seed': None}}, 'bias_initializer': {'class_name': 'Zeros', 'config': {}}, 'kernel_regularizer': None, 'bias_regularizer': None, 'activity_regularizer': None, 'kernel_constraint': None, 'bias_constraint': None}}, {'class_name': 'Conv2D', 'config': {'name': 'block4_conv3', 'trainable': False, 'filters': 512, 'kernel_size': [3, 3], 'strides': [1, 1], 'padding': 'same', 'data_format': 'channels_last', 'dilation_rate': [1, 1], 'activation': 'relu', 'use_bias': True, 'kernel_initializer': {'class_name': 'VarianceScaling', 'config': {'scale': 1.0, 'mode': 'fan_avg', 'distribution': 'uniform', 'seed': None}}, 'bias_initializer': {'class_name': 'Zeros', 'config': {}}, 'kernel_regularizer': None, 'bias_regularizer': None, 'activity_regularizer': None, 'kernel_constraint': None, 'bias_constraint': None}}, {'class_name': 'MaxPooling2D', 'config': {'name': 'block4_pool', 'trainable': False, 'pool_size': [2, 2], 'padding': 'valid', 'strides': [2, 2], 'data_format': 'channels_last'}}, {'class_name': 'Flatten', 'config': {'name': 'flatten_1', 'trainable': True, 'data_format': 'channels_last'}}, {'class_name': 'BatchNormalization', 'config': {'name': 'batch_normalization_1', 'trainable': True, 'axis': -1, 'momentum': 0.99, 'epsilon': 0.001, 'center': True, 'scale': True, 'beta_initializer': {'class_name': 'Zeros', 'config': {}}, 'gamma_initializer': {'class_name': 'Ones', 'config': {}}, 'moving_mean_initializer': {'class_name': 'Zeros', 'config': {}}, 'moving_variance_initializer': {'class_name': 'Ones', 'config': {}}, 'beta_regularizer': None, 'gamma_regularizer': None, 'beta_constraint': None, 'gamma_constraint': None}}, {'class_name': 'Dense', 'config': {'name': 'dense_1', 'trainable': True, 'units': 512, 'activation': 'relu', 'use_bias': True, 'kernel_initializer': {'class_name': 'VarianceScaling', 'config': {'scale': 1.0, 'mode': 'fan_avg', 'distribution': 'uniform', 'seed': None}}, 'bias_initializer': {'class_name': 'Zeros', 'config': {}}, 'kernel_regularizer': None, 'bias_regularizer': None, 'activity_regularizer': None, 'kernel_constraint': None, 'bias_constraint': None}}, {'class_name': 'Dense', 'config': {'name': 'dense_2', 'trainable': True, 'units': 512, 'activation': 'relu', 'use_bias': True, 'kernel_initializer': {'class_name': 'VarianceScaling', 'config': {'scale': 1.0, 'mode': 'fan_avg', 'distribution': 'uniform', 'seed': None}}, 'bias_initializer': {'class_name': 'Zeros', 'config': {}}, 'kernel_regularizer': None, 'bias_regularizer': None, 'activity_regularizer': None, 'kernel_constraint': None, 'bias_constraint': None}}, {'class_name': 'Dropout', 'config': {'name': 'dropout_1', 'trainable': True, 'rate': 0.5, 'noise_shape': None, 'seed': None}}, {'class_name': 'Dense', 'config': {'name': 'dense_3', 'trainable': True, 'units': 1, 'activation': 'sigmoid', 'use_bias': True, 'kernel_initializer': {'class_name': 'VarianceScaling', 'config': {'scale': 1.0, 'mode': 'fan_avg', 'distribution': 'uniform', 'seed': None}}, 'bias_initializer': {'class_name': 'Zeros', 'config': {}}, 'kernel_regularizer': None, 'bias_regularizer': None, 'activity_regularizer': None, 'kernel_constraint': None, 'bias_constraint': None}}]}}\n"
          ],
          "name": "stdout"
        }
      ]
    },
    {
      "metadata": {
        "id": "Vn-m39tW2HiR",
        "colab_type": "code",
        "outputId": "8cae333f-a663-4efe-a37f-51cfe091a728",
        "colab": {
          "base_uri": "https://localhost:8080/",
          "height": 35
        }
      },
      "cell_type": "code",
      "source": [
        "import os \n",
        "from google.colab import drive\n",
        "from keras import models\n",
        "\n",
        "drive.mount('/content/drive')\n",
        "\n",
        "work_dir = \"./drive/My Drive/ENSEMBLE/\"\n",
        "if not os.path.exists(work_dir):\n",
        "  os.makedirs(work_dir)\n",
        "\n",
        "pre_train_cnn_dir = \"./drive/My Drive/PT-CNN\"\n",
        "pre_train_cnn_model_name = \"IntermediateLayers04.h5\"\n",
        "\n",
        "scratch_cnn_dir = \"./drive/My Drive/CNN\"\n",
        "scratch_train_cnn_model_name = \"Dense01.h5\"\n",
        "\n",
        "SCCNN = models.load_model(os.path.join(scratch_cnn_dir, scratch_train_cnn_model_name))\n",
        "PTCNN = models.load_model(os.path.join(pre_train_cnn_dir, pre_train_cnn_model_name))\n",
        "\n"
      ],
      "execution_count": 27,
      "outputs": [
        {
          "output_type": "stream",
          "text": [
            "Drive already mounted at /content/drive; to attempt to forcibly remount, call drive.mount(\"/content/drive\", force_remount=True).\n"
          ],
          "name": "stdout"
        }
      ]
    },
    {
      "metadata": {
        "id": "MURp9CcqvNcZ",
        "colab_type": "code",
        "colab": {
          "base_uri": "https://localhost:8080/",
          "height": 52
        },
        "outputId": "dda064f7-cbe0-4c63-a750-5c0088e794f9"
      },
      "cell_type": "code",
      "source": [
        "import numpy as np\n",
        "from sklearn.model_selection import train_test_split\n",
        "\n",
        "train_gray_imgs = np.load(\"/content/drive/My Drive/CI_FinalProject/Copia di train_img_224.npy\")\n",
        "train_lbls = np.load(\"drive/My Drive/CI_FinalProject/Copia di train_lab.npy\")\n",
        "\n",
        "val_split = 0.2\n",
        "X_train, X_val, y_train, y_val = train_test_split(train_gray_imgs, train_lbls,\n",
        "                                                  test_size=val_split, \n",
        "                                                  stratify=train_lbls)\n",
        "\n",
        "X = np.stack((X_val,)*3, axis=-1)\n",
        "y = y_val\n",
        "\n",
        "del(X_train, y_train)\n",
        "del(train_gray_imgs, train_lbls)\n",
        "\n",
        "test_gray_imgs = np.load(\"drive/My Drive/CI_FinalProject/Copia di public_test_image_224.npy\")\n",
        "test_rgb_imgs = np.stack((test_gray_imgs,)*3, axis=-1)\n",
        "test_lbls = np.load(\"drive/My Drive/CI_FinalProject/Copia di public_test_label.npy\")\n",
        "\n",
        "del(test_gray_imgs)\n",
        "\n",
        "print(X.shape) # 2864 images: it is a small data set\n",
        "print(X.dtype)"
      ],
      "execution_count": 28,
      "outputs": [
        {
          "output_type": "stream",
          "text": [
            "(573, 224, 224, 3)\n",
            "uint16\n"
          ],
          "name": "stdout"
        }
      ]
    },
    {
      "metadata": {
        "id": "U2Tq4BFkvwBr",
        "colab_type": "code",
        "colab": {}
      },
      "cell_type": "code",
      "source": [
        "from keras.preprocessing.image import ImageDataGenerator\n",
        "\n",
        "train_datagen = ImageDataGenerator(rescale=1./65536, horizontal_flip=True, vertical_flip=True, validation_split=val_split)\n",
        "\n",
        "val1_iterator = train_datagen.flow(X, y, shuffle=False ,batch_size=16, subset='validation')\n",
        "val2_iterator = train_datagen.flow(X, y, shuffle=False ,batch_size=16, subset='validation')\n",
        "\n",
        "# # validation_iterator = train_datagen.flow(train_rgb_imgs, train_lbls, batch_size=16, subset='validation')\n",
        "\n",
        "test_datagen = ImageDataGenerator(rescale=1./65536, horizontal_flip=True, vertical_flip=True)\n",
        "\n",
        "test_iterator = test_datagen.flow(test_rgb_imgs, test_lbls, batch_size=8)"
      ],
      "execution_count": 0,
      "outputs": []
    },
    {
      "metadata": {
        "id": "qOndXKBev47U",
        "colab_type": "code",
        "colab": {
          "base_uri": "https://localhost:8080/",
          "height": 156
        },
        "outputId": "319b4d9d-e69a-488c-8583-00d27f694f30"
      },
      "cell_type": "code",
      "source": [
        "PTCNNresults = PTCNN.evaluate_generator(val1_iterator, steps=35, verbose=1)\n",
        "SCCNNresults = SCCNN.evaluate_generator(val2_iterator, steps=35, verbose=1)\n",
        "\n",
        "print(PTCNNresults)\n",
        "print(SCCNNresults)\n",
        "\n",
        "PTCNNresults = PTCNN.evaluate_generator(test_iterator, steps=35, verbose=1)\n",
        "SCCNNresults = SCCNN.evaluate_generator(test_iterator, steps=35, verbose=1)\n",
        "\n",
        "print(PTCNNresults)\n",
        "print(SCCNNresults)\n"
      ],
      "execution_count": 32,
      "outputs": [
        {
          "output_type": "stream",
          "text": [
            "35/35 [==============================] - 5s 134ms/step\n",
            "35/35 [==============================] - 1s 24ms/step\n",
            "[0.2944771457073868, 0.9489795918367347]\n",
            "[0.33938139646637194, 0.8510204081632653]\n",
            "35/35 [==============================] - 4s 108ms/step\n",
            "35/35 [==============================] - 1s 16ms/step\n",
            "[0.906763697122889, 0.8571428571428571]\n",
            "[0.3546946481402431, 0.85]\n"
          ],
          "name": "stdout"
        }
      ]
    }
  ]
}